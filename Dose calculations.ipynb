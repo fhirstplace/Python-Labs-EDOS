{
 "cells": [
  {
   "cell_type": "code",
   "execution_count": 1,
   "id": "9af5e5fb",
   "metadata": {},
   "outputs": [],
   "source": [
    "import numpy as np\n"
   ]
  },
  {
   "cell_type": "code",
   "execution_count": 6,
   "id": "9c935401",
   "metadata": {},
   "outputs": [
    {
     "name": "stdout",
     "output_type": "stream",
     "text": [
      "Ba-133 MOSFET dose = 0.7133020912632281 +/- 0.08878364559965465\n"
     ]
    }
   ],
   "source": [
    "#Mosfet133\n",
    "M133 = 88.392*1000/(4*np.pi*1.912*(15.62**2))*(517.4*1.6*10**-13)*(4180*np.exp(-(9.75*np.log(2))/10.8))*3600*71\n",
    "M133err = M133*np.sqrt((1/4180*np.exp(-(9.75*np.log(2))/10.8))**2+(0.1/517.4)**2+(0.001/1.912)**2+(2*0.01/15.62)**2+(1.02/10.16)**2+(0.64/8.7)**2+(0.001/(71*3600))**2)\n",
    "print('Ba-133 MOSFET dose = '+ str(M133) + ' +/- ' + str(M133err))"
   ]
  },
  {
   "cell_type": "code",
   "execution_count": 7,
   "id": "e182fa55",
   "metadata": {},
   "outputs": [
    {
     "name": "stdout",
     "output_type": "stream",
     "text": [
      "Cs-137 MOSFET dose = 0.2764948242486832 +/- 0.03442001298601096\n"
     ]
    }
   ],
   "source": [
    "#Mosfet137\n",
    "M137 = 88.392*1000/(4*np.pi*1.912*(15.62**2))*(1175.63*1.6*10**-13)*(430*np.exp(-(10*np.log(2))/(30.1*3)))*3600*68\n",
    "M137err = M137*np.sqrt((1/430*np.exp(-(10*np.log(2))/(30.1*3)))**2+(0.17/1175.63)**2+(0.001/1.912)**2+(2*0.01/15.62)**2+(1.02/10.16)**2+(0.64/8.7)**2+(0.001/(68*3600))**2)\n",
    "print('Cs-137 MOSFET dose = '+ str(M137) + ' +/- ' + str(M137err))"
   ]
  },
  {
   "cell_type": "code",
   "execution_count": 8,
   "id": "4de23d4d",
   "metadata": {},
   "outputs": [
    {
     "name": "stdout",
     "output_type": "stream",
     "text": [
      "Ba-133 SMR dose = 26.800744337635223 +/- 0.46003136789976606\n"
     ]
    }
   ],
   "source": [
    "#SMRs 133\n",
    "SMR = 4.6664/(4*np.pi*8.124*(10**-4))*(517.4*1.6*10**-13)*(4180*np.exp(-(9.75*np.log(2))/10.8))*3600*88\n",
    "SMRerr = SMR*np.sqrt((1/4180*np.exp(-(9.75*np.log(2))/10.8))**2+(0.1/517.4)**2+(0.001/0.065)**2+(2*0.01/10)**2+(0.01/1.52)**2+(0.01/3.07)**2+(0.001/(88*3600))**2)\n",
    "print('Ba-133 SMR dose = '+ str(SMR) + ' +/- ' + str(SMRerr))"
   ]
  },
  {
   "cell_type": "code",
   "execution_count": 3,
   "id": "e2269a74",
   "metadata": {},
   "outputs": [
    {
     "name": "stdout",
     "output_type": "stream",
     "text": [
      "0.016055993500868483\n",
      "0.0038312611759548157\n"
     ]
    }
   ],
   "source": [
    "print(0.08027996750434241/5)\n",
    "print(0.01915630587977408/5)"
   ]
  },
  {
   "cell_type": "code",
   "execution_count": 5,
   "id": "b1a63129",
   "metadata": {},
   "outputs": [
    {
     "data": {
      "text/plain": [
       "0.016"
      ]
     },
     "execution_count": 5,
     "metadata": {},
     "output_type": "execute_result"
    }
   ],
   "source": [
    "0.08/5"
   ]
  },
  {
   "cell_type": "code",
   "execution_count": null,
   "id": "650b71c1",
   "metadata": {},
   "outputs": [],
   "source": []
  }
 ],
 "metadata": {
  "kernelspec": {
   "display_name": "Python 3",
   "language": "python",
   "name": "python3"
  },
  "language_info": {
   "codemirror_mode": {
    "name": "ipython",
    "version": 3
   },
   "file_extension": ".py",
   "mimetype": "text/x-python",
   "name": "python",
   "nbconvert_exporter": "python",
   "pygments_lexer": "ipython3",
   "version": "3.11.9"
  }
 },
 "nbformat": 4,
 "nbformat_minor": 5
}
