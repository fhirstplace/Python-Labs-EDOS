{
 "cells": [
  {
   "cell_type": "code",
   "execution_count": null,
   "id": "9af5e5fb",
   "metadata": {},
   "outputs": [
    {
     "data": {
      "text/plain": [
       "np.float64(2235.6977577365483)"
      ]
     },
     "execution_count": 1,
     "metadata": {},
     "output_type": "execute_result"
    }
   ],
   "source": [
    "import numpy as np\n"
   ]
  },
  {
   "cell_type": "code",
   "execution_count": null,
   "id": "9c935401",
   "metadata": {},
   "outputs": [
    {
     "data": {
      "text/plain": [
       "np.float64(0.7133020912632281)"
      ]
     },
     "execution_count": 8,
     "metadata": {},
     "output_type": "execute_result"
    }
   ],
   "source": [
    "#Mosfet133\n",
    "88.392*1000/(4*np.pi*1.912*(15.62**2))*(517.4*1.6*10**-13)*(4180*np.exp(-(9.75*np.log(2))/10.8))*3600*71"
   ]
  },
  {
   "cell_type": "code",
   "execution_count": null,
   "id": "e182fa55",
   "metadata": {},
   "outputs": [
    {
     "data": {
      "text/plain": [
       "np.float64(0.2764948242486832)"
      ]
     },
     "execution_count": 11,
     "metadata": {},
     "output_type": "execute_result"
    }
   ],
   "source": [
    "#Mosfet137\n",
    "88.392*1000/(4*np.pi*1.912*(15.62**2))*(1175.63*1.6*10**-13)*(430*np.exp(-(10*np.log(2))/(30.1*3)))*3600*68"
   ]
  },
  {
   "cell_type": "code",
   "execution_count": null,
   "id": "4de23d4d",
   "metadata": {},
   "outputs": [
    {
     "data": {
      "text/plain": [
       "np.float64(26.800744337635223)"
      ]
     },
     "execution_count": 12,
     "metadata": {},
     "output_type": "execute_result"
    }
   ],
   "source": [
    "#SMRs 133\n",
    "4.6664/(4*np.pi*8.124*(10**-4))*(517.4*1.6*10**-13)*(4180*np.exp(-(9.75*np.log(2))/10.8))*3600*88"
   ]
  },
  {
   "cell_type": "code",
   "execution_count": null,
   "id": "e2269a74",
   "metadata": {},
   "outputs": [],
   "source": []
  }
 ],
 "metadata": {
  "kernelspec": {
   "display_name": "Python 3",
   "language": "python",
   "name": "python3"
  },
  "language_info": {
   "codemirror_mode": {
    "name": "ipython",
    "version": 3
   },
   "file_extension": ".py",
   "mimetype": "text/x-python",
   "name": "python",
   "nbconvert_exporter": "python",
   "pygments_lexer": "ipython3",
   "version": "3.11.9"
  }
 },
 "nbformat": 4,
 "nbformat_minor": 5
}
